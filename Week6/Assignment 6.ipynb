{
 "cells": [
  {
   "cell_type": "markdown",
   "id": "ce62e43c",
   "metadata": {},
   "source": [
    "Question 1. \n",
    "Two Sum: Given a sorted array of integers in ascending order, write a function to find two numbers such that they add up closest to a specific target number. \n",
    "Solution should be optimal and provide time complexity of your solution. "
   ]
  },
  {
   "cell_type": "code",
   "execution_count": 11,
   "id": "ac5f69a8",
   "metadata": {},
   "outputs": [
    {
     "name": "stdout",
     "output_type": "stream",
     "text": [
      "[4, 6]\n"
     ]
    }
   ],
   "source": [
    "def two_sum_closest(nums, target):\n",
    "    left, right = 0, len(nums) - 1\n",
    "    closest_sum = float('inf')\n",
    "    result = []\n",
    "\n",
    "    while left < right:\n",
    "        current_sum = nums[left] + nums[right]\n",
    "\n",
    "        if abs(target - current_sum) < abs(target - closest_sum):\n",
    "            closest_sum = current_sum\n",
    "            result = [nums[left], nums[right]]\n",
    "\n",
    "        if current_sum < target:\n",
    "            left += 1\n",
    "        else:\n",
    "            right -= 1\n",
    "\n",
    "    return result\n",
    "\n",
    "# Example:\n",
    "sorted_nums = [1, 2, 3, 4, 6]\n",
    "target = 11\n",
    "result = two_sum_closest(sorted_nums, target)\n",
    "print(result)\n",
    "# Output should be [4, 6] since 4 + 6 = 10, which is closest to the target."
   ]
  },
  {
   "cell_type": "markdown",
   "id": "f03f9f66",
   "metadata": {},
   "source": [
    "Question 2. \n",
    "Given an array representing the price of a stock on different days, write a program to find the maximum profit that can be made by buying and selling the stock, with the restriction that you must wait for one day after selling the stock before buying it again.\n"
   ]
  },
  {
   "cell_type": "code",
   "execution_count": 9,
   "id": "d74430c9",
   "metadata": {},
   "outputs": [
    {
     "name": "stdout",
     "output_type": "stream",
     "text": [
      "7\n"
     ]
    }
   ],
   "source": [
    "def max_profit(prices):\n",
    "    n = len(prices)\n",
    "    \n",
    "    # Create two arrays to store the maximum profit when buying and selling at each day respectively.\n",
    "    buy = [0] * n\n",
    "    sell = [0] * n\n",
    "    \n",
    "    # Initialize the first day's buy value with the negative price.\n",
    "    buy[0] = -prices[0]\n",
    "    \n",
    "    for i in range(1, n):\n",
    "        # On the ith day, I can either choose to buy or do nothing (carry over the previous buy value).\n",
    "        buy[i] = max(buy[i - 1], sell[i - 2] - prices[i])\n",
    "        \n",
    "        # On the ith day, I can either choose to sell or do nothing (carry over the previous sell value).\n",
    "        sell[i] = max(sell[i - 1], buy[i - 1] + prices[i])\n",
    "    \n",
    "    # The maximum profit will be in the last element of the 'sell' array.\n",
    "    return sell[-1]\n",
    "\n",
    "# Example:\n",
    "prices = [6, 2, 3, 4, 9]\n",
    "print(max_profit(prices)) "
   ]
  },
  {
   "cell_type": "markdown",
   "id": "f5edecbb",
   "metadata": {},
   "source": [
    "Question 3. \n",
    "Write an algorithm to find the first 100 twin primes.\n",
    "\n",
    "Fun Fact:  Did you know that mathematicians are still working to prove whether there are an infinite number of twin primes? Twin primes are pairs of prime numbers that have a difference of 2 between them. While it's strongly believed that there are infinitely many twin primes, the exact proof, known as the Twin Prime Conjecture, remains elusive. It's a fascinating and unsolved mystery in the world of mathematics!\n"
   ]
  },
  {
   "cell_type": "code",
   "execution_count": 6,
   "id": "4d39499b",
   "metadata": {},
   "outputs": [
    {
     "name": "stdout",
     "output_type": "stream",
     "text": [
      "Twin Prime Pair 1: (3, 5)\n",
      "Twin Prime Pair 2: (5, 7)\n",
      "Twin Prime Pair 3: (11, 13)\n",
      "Twin Prime Pair 4: (17, 19)\n",
      "Twin Prime Pair 5: (29, 31)\n",
      "Twin Prime Pair 6: (41, 43)\n",
      "Twin Prime Pair 7: (59, 61)\n",
      "Twin Prime Pair 8: (71, 73)\n",
      "Twin Prime Pair 9: (101, 103)\n",
      "Twin Prime Pair 10: (107, 109)\n",
      "Twin Prime Pair 11: (137, 139)\n",
      "Twin Prime Pair 12: (149, 151)\n",
      "Twin Prime Pair 13: (179, 181)\n",
      "Twin Prime Pair 14: (191, 193)\n",
      "Twin Prime Pair 15: (197, 199)\n",
      "Twin Prime Pair 16: (227, 229)\n",
      "Twin Prime Pair 17: (239, 241)\n",
      "Twin Prime Pair 18: (269, 271)\n",
      "Twin Prime Pair 19: (281, 283)\n",
      "Twin Prime Pair 20: (311, 313)\n",
      "Twin Prime Pair 21: (347, 349)\n",
      "Twin Prime Pair 22: (419, 421)\n",
      "Twin Prime Pair 23: (431, 433)\n",
      "Twin Prime Pair 24: (461, 463)\n",
      "Twin Prime Pair 25: (521, 523)\n",
      "Twin Prime Pair 26: (569, 571)\n",
      "Twin Prime Pair 27: (599, 601)\n",
      "Twin Prime Pair 28: (617, 619)\n",
      "Twin Prime Pair 29: (641, 643)\n",
      "Twin Prime Pair 30: (659, 661)\n",
      "Twin Prime Pair 31: (809, 811)\n",
      "Twin Prime Pair 32: (821, 823)\n",
      "Twin Prime Pair 33: (827, 829)\n",
      "Twin Prime Pair 34: (857, 859)\n",
      "Twin Prime Pair 35: (881, 883)\n",
      "Twin Prime Pair 36: (1019, 1021)\n",
      "Twin Prime Pair 37: (1031, 1033)\n",
      "Twin Prime Pair 38: (1049, 1051)\n",
      "Twin Prime Pair 39: (1061, 1063)\n",
      "Twin Prime Pair 40: (1091, 1093)\n",
      "Twin Prime Pair 41: (1151, 1153)\n",
      "Twin Prime Pair 42: (1229, 1231)\n",
      "Twin Prime Pair 43: (1277, 1279)\n",
      "Twin Prime Pair 44: (1289, 1291)\n",
      "Twin Prime Pair 45: (1301, 1303)\n",
      "Twin Prime Pair 46: (1319, 1321)\n",
      "Twin Prime Pair 47: (1427, 1429)\n",
      "Twin Prime Pair 48: (1451, 1453)\n",
      "Twin Prime Pair 49: (1481, 1483)\n",
      "Twin Prime Pair 50: (1487, 1489)\n",
      "Twin Prime Pair 51: (1607, 1609)\n",
      "Twin Prime Pair 52: (1619, 1621)\n",
      "Twin Prime Pair 53: (1667, 1669)\n",
      "Twin Prime Pair 54: (1697, 1699)\n",
      "Twin Prime Pair 55: (1721, 1723)\n",
      "Twin Prime Pair 56: (1787, 1789)\n",
      "Twin Prime Pair 57: (1871, 1873)\n",
      "Twin Prime Pair 58: (1877, 1879)\n",
      "Twin Prime Pair 59: (1931, 1933)\n",
      "Twin Prime Pair 60: (1949, 1951)\n",
      "Twin Prime Pair 61: (1997, 1999)\n",
      "Twin Prime Pair 62: (2027, 2029)\n",
      "Twin Prime Pair 63: (2081, 2083)\n",
      "Twin Prime Pair 64: (2087, 2089)\n",
      "Twin Prime Pair 65: (2111, 2113)\n",
      "Twin Prime Pair 66: (2129, 2131)\n",
      "Twin Prime Pair 67: (2141, 2143)\n",
      "Twin Prime Pair 68: (2237, 2239)\n",
      "Twin Prime Pair 69: (2267, 2269)\n",
      "Twin Prime Pair 70: (2309, 2311)\n",
      "Twin Prime Pair 71: (2339, 2341)\n",
      "Twin Prime Pair 72: (2381, 2383)\n",
      "Twin Prime Pair 73: (2549, 2551)\n",
      "Twin Prime Pair 74: (2591, 2593)\n",
      "Twin Prime Pair 75: (2657, 2659)\n",
      "Twin Prime Pair 76: (2687, 2689)\n",
      "Twin Prime Pair 77: (2711, 2713)\n",
      "Twin Prime Pair 78: (2729, 2731)\n",
      "Twin Prime Pair 79: (2789, 2791)\n",
      "Twin Prime Pair 80: (2801, 2803)\n",
      "Twin Prime Pair 81: (2969, 2971)\n",
      "Twin Prime Pair 82: (2999, 3001)\n",
      "Twin Prime Pair 83: (3119, 3121)\n",
      "Twin Prime Pair 84: (3167, 3169)\n",
      "Twin Prime Pair 85: (3251, 3253)\n",
      "Twin Prime Pair 86: (3257, 3259)\n",
      "Twin Prime Pair 87: (3299, 3301)\n",
      "Twin Prime Pair 88: (3329, 3331)\n",
      "Twin Prime Pair 89: (3359, 3361)\n",
      "Twin Prime Pair 90: (3371, 3373)\n",
      "Twin Prime Pair 91: (3389, 3391)\n",
      "Twin Prime Pair 92: (3461, 3463)\n",
      "Twin Prime Pair 93: (3467, 3469)\n",
      "Twin Prime Pair 94: (3527, 3529)\n",
      "Twin Prime Pair 95: (3539, 3541)\n",
      "Twin Prime Pair 96: (3557, 3559)\n",
      "Twin Prime Pair 97: (3581, 3583)\n",
      "Twin Prime Pair 98: (3671, 3673)\n",
      "Twin Prime Pair 99: (3767, 3769)\n",
      "Twin Prime Pair 100: (3821, 3823)\n"
     ]
    },
    {
     "data": {
      "text/plain": [
       "'Algorithm to Find the First 100 Twin Primes:\\n\\n1.Initialize an empty list to store the twin prime pairs, e.g., twin_primes.\\n2.Initialize a variable n to 2, which is the first prime number.\\n3.While the length of twin_primes is less than 100, do the following:\\n    a. Check if n and n + 2 are both prime numbers using a prime-checking function (e.g., is_prime).\\n    b. If both n and n + 2 are prime,  add the pair (n, n + 2) to the twin_primes list.\\n    c. Increment n by 1.\\n4.Return the list twin_primes containing the first 100 twin prime pairs.'"
      ]
     },
     "execution_count": 6,
     "metadata": {},
     "output_type": "execute_result"
    }
   ],
   "source": [
    "def is_prime(n):\n",
    "    if n <= 1:\n",
    "        return False\n",
    "    if n <= 3:\n",
    "        return True\n",
    "    if n % 2 == 0 or n % 3 == 0:\n",
    "        return False\n",
    "    i = 5\n",
    "    while i * i <= n:\n",
    "        if n % i == 0 or n % (i + 2) == 0:\n",
    "            return False\n",
    "        i += 6\n",
    "    return True\n",
    "\n",
    "def find_twin_primes():\n",
    "    twin_primes = []\n",
    "    n = 2\n",
    "    while len(twin_primes) < 100:\n",
    "        if is_prime(n) and is_prime(n + 2):\n",
    "            twin_primes.append((n, n + 2))\n",
    "        n += 1\n",
    "    return twin_primes\n",
    "\n",
    "if __name__ == \"__main__\":\n",
    "    twin_prime_pairs = find_twin_primes()\n",
    "    for i, (p1, p2) in enumerate(twin_prime_pairs, start=1):\n",
    "        print(f\"Twin Prime Pair {i}: ({p1}, {p2})\")\n",
    "\n",
    "'''Algorithm to find the first 100 twin primes:\n",
    "\n",
    "1.Initialize an empty list to store the twin prime pairs, e.g., twin_primes.\n",
    "2.Initialize a variable n to 2, which is the first prime number.\n",
    "3.While the length of twin_primes is less than 100, do the following:\n",
    "    a. Check if n and n + 2 are both prime numbers using a prime-checking function (e.g., is_prime).\n",
    "    b. If both n and n + 2 are prime,  add the pair (n, n + 2) to the twin_primes list.\n",
    "    c. Increment n by 1.\n",
    "4.Return the list twin_primes containing the first 100 twin prime pairs.'''"
   ]
  },
  {
   "cell_type": "markdown",
   "id": "8476049f",
   "metadata": {},
   "source": [
    "Question 4. \n",
    "What is the time complexity of the following code:"
   ]
  },
  {
   "cell_type": "code",
   "execution_count": null,
   "id": "0eda2250",
   "metadata": {},
   "outputs": [],
   "source": [
    "k = 0;\n",
    "for i in range(n//2,n):\n",
    "    for j in range(2,n,pow(2,j)):\n",
    "        k = k + n/2;"
   ]
  },
  {
   "cell_type": "markdown",
   "id": "e6c9c5a3",
   "metadata": {},
   "source": [
    "The time complexity of this code can be analyzed by breaking it down into its nested loops.\n",
    "\n",
    "1. The outer loop runs from `n//2` to `n`, which means it runs `n - (n//2)` times. In terms of time complexity, this is O(n).\n",
    "\n",
    "2. The inner loop iterates with `j` starting from 2 and incrementing by a power of 2 in each iteration until `j` becomes greater than or equal to `n`. This means the number of iterations in the inner loop depends on the value of `n`. Specifically, the inner loop runs until `j >= n`, where `j` starts at 2 and doubles in each iteration. So, it runs for log2(n) iterations (approximately).\n",
    "\n",
    "3. Inside the inner loop, we have a constant-time operation: `k = k + n/2`. This operation is not dependent on the size of the input `n`.\n",
    "\n",
    "Now, let's combine these factors:\n",
    "\n",
    "- The outer loop runs in O(n) time.\n",
    "- The inner loop runs in O(log n) time because it iterates log2(n) times.\n",
    "- The constant-time operation inside the inner loop doesn't affect the overall time complexity.\n",
    "\n",
    "To find the overall time complexity, we multiply the time complexity of the outer loop by the time complexity of the inner loop:\n",
    "\n",
    "O(n) * O(log n) = O(n * log n)\n",
    "\n",
    "So, the overall time complexity of the given code is O(n * log n)."
   ]
  },
  {
   "cell_type": "markdown",
   "id": "1cde2d36",
   "metadata": {},
   "source": [
    "Question 5. \n",
    "What is the time complexity of the following code:"
   ]
  },
  {
   "cell_type": "code",
   "execution_count": null,
   "id": "45af84b2",
   "metadata": {},
   "outputs": [],
   "source": [
    "value = 0;\n",
    "for i in range(n):\n",
    "    for j in range(i):\n",
    "        value=value+1"
   ]
  },
  {
   "cell_type": "markdown",
   "id": "cba15753",
   "metadata": {},
   "source": [
    "The time complexity of the code can be analyzed by counting the number of operations it performs as a function of the input variable `n`.\n",
    "\n",
    "Let's break down the code:\n",
    "\n",
    "1. The outer loop runs `n` times, where `n` is the input variable.\n",
    "2. Inside the outer loop, there is an inner loop that runs `i` times for each value of `i` in the range from 0 to `n-1`.\n",
    "3. Inside the inner loop, a simple addition operation `value = value + 1` is performed.\n",
    "\n",
    "Now, let's calculate the total number of iterations and operations:\n",
    "\n",
    "- For `i = 0`, the inner loop doesn't run, so no operations are performed.\n",
    "- For `i = 1`, the inner loop runs 1 time.\n",
    "- For `i = 2`, the inner loop runs 2 times.\n",
    "- For `i = 3`, the inner loop runs 3 times.\n",
    "- ...\n",
    "- For `i = n-1`, the inner loop runs `n-1` times.\n",
    "\n",
    "To find the total number of operations, we can sum the number of iterations of the inner loop for each value of `i` from 1 to `n-1`. This sum is given by:\n",
    "\n",
    "1 + 2 + 3 + ... + (n-1)\n",
    "\n",
    "This is an arithmetic series, and the sum can be calculated using the formula for the sum of the first `n` natural numbers:\n",
    "\n",
    "Sum = (n * (n - 1)) / 2\n",
    "\n",
    "Therefore, the time complexity of the code is O(n * (n - 1) / 2), which simplifies to O(n^2) in big O notation.\n",
    "\n",
    "So, the time complexity of the provided code is O(n^2)."
   ]
  }
 ],
 "metadata": {
  "kernelspec": {
   "display_name": "Python 3 (ipykernel)",
   "language": "python",
   "name": "python3"
  },
  "language_info": {
   "codemirror_mode": {
    "name": "ipython",
    "version": 3
   },
   "file_extension": ".py",
   "mimetype": "text/x-python",
   "name": "python",
   "nbconvert_exporter": "python",
   "pygments_lexer": "ipython3",
   "version": "3.11.3"
  }
 },
 "nbformat": 4,
 "nbformat_minor": 5
}
