{
 "cells": [
  {
   "cell_type": "markdown",
   "id": "d754a673",
   "metadata": {},
   "source": [
    "Question 3.\n",
    "Obtaining the series of 10-business-days returns from the time series of observations as per given logic. \n"
   ]
  },
  {
   "cell_type": "markdown",
   "id": "98ce2a29",
   "metadata": {},
   "source": [
    "Task 1. Generate input data using below func. (given)"
   ]
  },
  {
   "cell_type": "code",
   "execution_count": 1,
   "id": "0a4e61d5",
   "metadata": {},
   "outputs": [],
   "source": [
    "import pandas as pd\n",
    "import numpy as np\n",
    "import random\n",
    "random.seed(12)\n",
    "np.random.seed(12)\n",
    "def generate_random_timeseries_data(proportion_to_delete=0.2):\n",
    "    date_range=pd.date_range(start='2020-01-01',end='2021-01-20',freq='B')\n",
    "    random_data=np.random.rand(len(date_range))\n",
    "    timeseries_data=pd.DataFrame({'Date':date_range,'Value':random_data})\n",
    "    num_obs_to_delete=int(proportion_to_delete*len(timeseries_data))\n",
    "    #print(\"num=\",num_obs_to_delete)\n",
    "    indices_to_delete=np.random.choice(timeseries_data.index,num_obs_to_delete,replace=False)\n",
    "    #print(indices_to_delete)\n",
    "    timeseries_data.drop(indices_to_delete,inplace=True)\n",
    "    return timeseries_data"
   ]
  },
  {
   "cell_type": "markdown",
   "id": "d27d239b",
   "metadata": {},
   "source": [
    "Task 2. \n",
    "Obtain the series of 10-business-days returns for input data for period [2020-01-01,2020-12-31]."
   ]
  },
  {
   "cell_type": "markdown",
   "id": "ec6408b4",
   "metadata": {},
   "source": [
    "Part 1 of Task2.\tCreate one function to find the ‘nearest to 10 business days candidate’."
   ]
  },
  {
   "cell_type": "code",
   "execution_count": 31,
   "id": "b18e7fec",
   "metadata": {},
   "outputs": [],
   "source": [
    "def nearest_ten_business_days(data):\n",
    "    #print(len(data))\n",
    "    tnn={}\n",
    "    #print(Dt_1,\"---\",Dt_2)\n",
    "    for i in range(len(data)-20):\n",
    "        diff=[]\n",
    "        Dt=data.Date.iloc[i]\n",
    "        for j in range(i+1,len(data)):#Dt_Dash\n",
    "            Dt_dash=data.Date.iloc[j]\n",
    "            diff.append((Dt_dash-Dt).days) \n",
    "        #print(diff)\n",
    "        minimise=abs((10/np.array(diff))-1)\n",
    "        #print(minimise)\n",
    "        tnn[i]=i+np.argmin(minimise)\n",
    "        return tnn\n",
    "    return(tnn)"
   ]
  },
  {
   "cell_type": "markdown",
   "id": "f600846a",
   "metadata": {},
   "source": [
    "Part 2 of Task 2.\tAnd one main function to find the series of 10-business-days returns from the time series of observations and call ‘nearest to 10 business days candidate’ function within main function whenever needed. "
   ]
  },
  {
   "cell_type": "code",
   "execution_count": 39,
   "id": "93cc77a3",
   "metadata": {},
   "outputs": [
    {
     "name": "stdout",
     "output_type": "stream",
     "text": [
      "[-0.26847277904269873]\n"
     ]
    }
   ],
   "source": [
    "if __name__==\"__main__\":\n",
    "    data=generate_random_timeseries_data()\n",
    "    dates=nearest_ten_business_days(data)\n",
    "    ret=[]\n",
    "    for dt,dtdash in dates.items():\n",
    "        ret.append(np.log(data.Value.iloc[dtdash]/data.Value.iloc[dt])*((10/(dtdash-dt))**0.5))\n",
    "    print(ret)"
   ]
  },
  {
   "cell_type": "code",
   "execution_count": null,
   "id": "d7297290",
   "metadata": {},
   "outputs": [],
   "source": []
  }
 ],
 "metadata": {
  "kernelspec": {
   "display_name": "Python 3 (ipykernel)",
   "language": "python",
   "name": "python3"
  },
  "language_info": {
   "codemirror_mode": {
    "name": "ipython",
    "version": 3
   },
   "file_extension": ".py",
   "mimetype": "text/x-python",
   "name": "python",
   "nbconvert_exporter": "python",
   "pygments_lexer": "ipython3",
   "version": "3.11.3"
  }
 },
 "nbformat": 4,
 "nbformat_minor": 5
}
