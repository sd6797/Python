{
 "cells": [
  {
   "cell_type": "markdown",
   "id": "49f57ea6",
   "metadata": {},
   "source": [
    "Question 2. Debugging: Find Prime Numbers The goal of this function is to find all prime numbers in a given range (start to end). However, there are several bugs in the code that need to be fixed."
   ]
  },
  {
   "cell_type": "markdown",
   "id": "60dd9b59",
   "metadata": {},
   "source": [
    "Task. Debug given code and make sure it prints correct expected outcome. Explain in two lines, what are the changes you made."
   ]
  },
  {
   "cell_type": "code",
   "execution_count": 12,
   "id": "1a25ba7a",
   "metadata": {},
   "outputs": [
    {
     "name": "stdout",
     "output_type": "stream",
     "text": [
      "Congratulations! The function is correct.\n"
     ]
    }
   ],
   "source": [
    "def is_prime(number):\n",
    "    if number < 2:\n",
    "        return False\n",
    "    for i in range(2, int(number**0.5) + 1):\n",
    "        if number % i == 0:\n",
    "            return False\n",
    "    return True\n",
    "\n",
    "def find_prime_numbers(start, end):\n",
    "    prime_numbers = []\n",
    "    for num in range(start, end + 1):\n",
    "        if is_prime(num):\n",
    "            prime_numbers.append(num)\n",
    "    return prime_numbers\n",
    "\n",
    "# Test the function\n",
    "start_range = 1\n",
    "end_range = 50\n",
    "expected_primes = [2, 3, 5, 7, 11, 13, 17, 19, 23, 29, 31, 37, 41, 43, 47]\n",
    "result = find_prime_numbers(start_range, end_range)\n",
    "\n",
    "if result == expected_primes:\n",
    "    print(\"Congratulations! The function is correct.\")\n",
    "else:\n",
    "    print(\"Too bad! There's a bug in the function.\")\n"
   ]
  },
  {
   "cell_type": "code",
   "execution_count": 10,
   "id": "dd035db8",
   "metadata": {},
   "outputs": [],
   "source": [
    "#Explanation:\n",
    "\n",
    "#Prime numbers are natural numbers greater than 1. 2 is the smallest prime number.So, in the is_prime function, the condition for checking should be number '< 2' instead of number '== 1'.\n",
    "#To check whether a number is prime number or not, in the is_prime function, the loop range start should be from '2' rather than '1' and go up to the range end 'int(number ** 0.5) + 1' instead of 'number'.\n",
    "#To check primality of the number,in the is_prime function,modulo operator (%) should be used instead of the division operator (/)"
   ]
  },
  {
   "cell_type": "markdown",
   "id": "9167930d",
   "metadata": {},
   "source": [
    "Explanation:\n",
    "\n",
    "#Prime numbers are natural numbers greater than 1. 2 is the smallest prime number.So, in the is_prime function, the condition for checking should be number '< 2' instead of number '== 1'.\n",
    "#To check whether a number is prime number or not, in the is_prime function, the loop range start should be from '2' rather than '1' and go up to the range end 'int(number ** 0.5) + 1' instead of 'number'.\n",
    "#To check primality of the number,in the is_prime function,modulo operator (%) should be used instead of the division operator (/)"
   ]
  }
 ],
 "metadata": {
  "kernelspec": {
   "display_name": "Python 3 (ipykernel)",
   "language": "python",
   "name": "python3"
  },
  "language_info": {
   "codemirror_mode": {
    "name": "ipython",
    "version": 3
   },
   "file_extension": ".py",
   "mimetype": "text/x-python",
   "name": "python",
   "nbconvert_exporter": "python",
   "pygments_lexer": "ipython3",
   "version": "3.11.3"
  }
 },
 "nbformat": 4,
 "nbformat_minor": 5
}
