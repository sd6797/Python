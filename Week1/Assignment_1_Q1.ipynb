{
 "cells": [
  {
   "cell_type": "markdown",
   "id": "7673bac3",
   "metadata": {},
   "source": [
    "Question 1. Stock Portfolio Management You have been tasked with developing a stock portfolio management system. The system should allow users to add stocks to their portfolio, buy and sell stocks, calculate the portfolio's value, and perform other related operations."
   ]
  },
  {
   "cell_type": "markdown",
   "id": "7b26d8e8",
   "metadata": {},
   "source": [
    "Task 1. Create a dictionary to represent the stock portfolio. The keys should be the stock symbols (e.g., 'AAPL', 'GOOG'), and the values should be dictionaries containing information about each stock, such as the number of shares and the purchase price."
   ]
  },
  {
   "cell_type": "code",
   "execution_count": 10,
   "id": "8367f044",
   "metadata": {},
   "outputs": [
    {
     "name": "stdout",
     "output_type": "stream",
     "text": [
      "{'AAPL': {'shares': 100, 'purchase_price': 1500.0}, 'GOOG': {'shares': 50, 'purchase_price': 2500.0}}\n"
     ]
    }
   ],
   "source": [
    "stock_portfolio = {}\n",
    "\n",
    "# Example: Adding stocks to the portfolio\n",
    "stock_portfolio['AAPL'] = {'shares': 100, 'purchase_price': 1500.00}\n",
    "stock_portfolio['GOOG'] = {'shares': 50, 'purchase_price': 2500.00}\n",
    "\n",
    "print(stock_portfolio)"
   ]
  },
  {
   "cell_type": "markdown",
   "id": "a9eb15e7",
   "metadata": {},
   "source": [
    "Task 2. Implement a function buy_stock() that allows users to buy stocks. The function should take the stock symbol, number of shares, and purchase price as input and add the stock to the portfolio."
   ]
  },
  {
   "cell_type": "code",
   "execution_count": 11,
   "id": "0e7dd967",
   "metadata": {},
   "outputs": [
    {
     "name": "stdout",
     "output_type": "stream",
     "text": [
      "{'AAPL': {'shares': 100, 'purchase_price': 1500.0}, 'GOOG': {'shares': 50, 'purchase_price': 2500.0}, 'META': {'shares': 100, 'purchase_price': 3000.0}}\n"
     ]
    }
   ],
   "source": [
    "def buy_stock(stock_symbol, shares, purchase_price):\n",
    "    if stock_symbol in stock_portfolio:\n",
    "        stock_portfolio[stock_symbol]['shares'] += shares\n",
    "        stock_portfolio[stock_symbol]['purchase_price'] = purchase_price\n",
    "    else:\n",
    "        stock_portfolio[stock_symbol] = {'shares': shares, 'purchase_price': purchase_price}\n",
    "\n",
    "# Example: Buying stocks\n",
    "buy_stock('META', 100, 3000.00)\n",
    "\n",
    "print(stock_portfolio)"
   ]
  },
  {
   "cell_type": "markdown",
   "id": "376713f1",
   "metadata": {},
   "source": [
    "Task 3.\tImplement a function sell_stock() that allows users to sell stocks. The function should take the stock symbol and the number of shares to sell as input and update the portfolio accordingly."
   ]
  },
  {
   "cell_type": "code",
   "execution_count": 12,
   "id": "87899e41",
   "metadata": {},
   "outputs": [
    {
     "name": "stdout",
     "output_type": "stream",
     "text": [
      "{'AAPL': {'shares': 50, 'purchase_price': 1500.0}, 'GOOG': {'shares': 25, 'purchase_price': 2500.0}, 'META': {'shares': 100, 'purchase_price': 3000.0}}\n"
     ]
    }
   ],
   "source": [
    "def sell_stock(stock_symbol, shares_to_sell):\n",
    "    if stock_symbol in stock_portfolio:\n",
    "        current_shares = stock_portfolio[stock_symbol]['shares']\n",
    "        if current_shares >= shares_to_sell:\n",
    "            stock_portfolio[stock_symbol]['shares'] -= shares_to_sell\n",
    "        else:\n",
    "            print(\"Error: Insufficient shares to sell.\")\n",
    "    else:\n",
    "        print(\"Error: Stock symbol not found in the portfolio.\")\n",
    "\n",
    "# Example: Selling stocks\n",
    "sell_stock('AAPL', 50)\n",
    "sell_stock('GOOG', 25)\n",
    "\n",
    "print(stock_portfolio)"
   ]
  },
  {
   "cell_type": "markdown",
   "id": "684c5ec8",
   "metadata": {},
   "source": [
    "Task 4.\tImplement a function calculate_portfolio_value() that calculates the current value of the entire stock portfolio based on the current stock prices. Assume current price for any stock is current price = purchase price + [*random number between -20 and 20] % of purchase price.    \n",
    "*  e.g., 4.11%, 0%, -7.0%,20.0%, -13.5%, -20.0% etc\n"
   ]
  },
  {
   "cell_type": "code",
   "execution_count": 40,
   "id": "4c16f432",
   "metadata": {},
   "outputs": [
    {
     "name": "stdout",
     "output_type": "stream",
     "text": [
      "Current Portfolio Value: 451455.3427618004\n"
     ]
    }
   ],
   "source": [
    "import random\n",
    "def calculate_portfolio_value():\n",
    "    total_value = 0.0\n",
    "    for stock_symbol, stock_info in stock_portfolio.items():\n",
    "        purchase_price = stock_info['purchase_price']\n",
    "        current_price = purchase_price + (purchase_price * (random.uniform(-20, 20) / 100))  # Random price variation\n",
    "        total_value += current_price * stock_info['shares']\n",
    "    return total_value\n",
    "\n",
    "# Example: Calculate the current value of the entire stock portfolio\n",
    "portfolio_value = calculate_portfolio_value()\n",
    "print(\"Current Portfolio Value:\", portfolio_value)"
   ]
  },
  {
   "cell_type": "markdown",
   "id": "9ab797fa",
   "metadata": {},
   "source": [
    "Task 5.\tImplement a function portfolio_performance() that calculates the overall performance of the portfolio. The performance can be measured as the percentage change in the portfolio value from the initial investment value"
   ]
  },
  {
   "cell_type": "code",
   "execution_count": 49,
   "id": "109501f4",
   "metadata": {},
   "outputs": [
    {
     "name": "stdout",
     "output_type": "stream",
     "text": [
      "Portfolio Performance: 5.788733896781238 %\n"
     ]
    }
   ],
   "source": [
    "def portfolio_performance(initial_investment):\n",
    "    current_value = calculate_portfolio_value()\n",
    "    performance = ((current_value - initial_investment) / initial_investment) * 100\n",
    "    return performance\n",
    "\n",
    "# Example: Calculate portfolio performance with an initial investment of 5000.0\n",
    "initial_investment = 437500.00\n",
    "performance_percentage = portfolio_performance(initial_investment)\n",
    "print(\"Portfolio Performance:\", performance_percentage, \"%\")"
   ]
  },
  {
   "cell_type": "markdown",
   "id": "790eae44",
   "metadata": {},
   "source": [
    "Task 6.\t[Optional] Create a menu-driven program to allow users to interact with the stock portfolio management system. The program should provide options to buy, sell, view portfolio, calculate portfolio value, and check portfolio performance."
   ]
  },
  {
   "cell_type": "code",
   "execution_count": null,
   "id": "b542aa2b",
   "metadata": {},
   "outputs": [],
   "source": [
    "def show_menu():\n",
    "    print(\"Menu:\")\n",
    "    print(\"1. Buy Stock\")\n",
    "    print(\"2. Sell Stock\")\n",
    "    print(\"3. View Portfolio\")\n",
    "    print(\"4. Calculate Portfolio Value\")\n",
    "    print(\"5. Check Portfolio Performance\")\n",
    "    print(\"0. Exit\")\n",
    "    \n",
    "def menu():\n",
    "    while True:\n",
    "        show_menu()\n",
    "        choice = int(input(\"Enter your choice: \"))\n",
    "\n",
    "        if choice == 0:\n",
    "            print(\"Exiting the program.\")\n",
    "            break\n",
    "\n",
    "        elif choice == 1:\n",
    "            stock_symbol = input(\"Enter stock symbol: \")\n",
    "            shares = int(input(\"Enter number of shares: \"))\n",
    "            purchase_price = float(input(\"Enter purchase price: \"))\n",
    "            buy_stock(stock_symbol, shares, purchase_price)\n",
    "\n",
    "        elif choice == 2:\n",
    "            stock_symbol = input(\"Enter stock symbol: \")\n",
    "            shares_to_sell = int(input(\"Enter number of shares to sell: \"))\n",
    "            sell_stock(stock_symbol, shares_to_sell)\n",
    "\n",
    "        elif choice == 3:\n",
    "            print(\"Current Portfolio:\")\n",
    "            for stock_symbol, stock_info in stock_portfolio.items():\n",
    "                print(stock_symbol, \"-\", stock_info['shares'], \"shares\")\n",
    "\n",
    "        elif choice == 4:\n",
    "            portfolio_value = calculate_portfolio_value()\n",
    "            print(\"Current Portfolio Value:\", portfolio_value)\n",
    "\n",
    "        elif choice == 5:\n",
    "            initial_investment = float(input(\"Enter initial investment amount: \"))\n",
    "            performance_percentage = portfolio_performance(initial_investment)\n",
    "            print(\"Portfolio Performance:\", performance_percentage, \"%\")\n",
    "\n",
    "        else:\n",
    "            print(\"Invalid choice. Please try again.\")\n",
    "\n",
    "\n",
    "# Example: Run the menu-driven program\n",
    "menu()"
   ]
  },
  {
   "cell_type": "code",
   "execution_count": null,
   "id": "76c7927c",
   "metadata": {},
   "outputs": [],
   "source": []
  }
 ],
 "metadata": {
  "kernelspec": {
   "display_name": "Python 3 (ipykernel)",
   "language": "python",
   "name": "python3"
  },
  "language_info": {
   "codemirror_mode": {
    "name": "ipython",
    "version": 3
   },
   "file_extension": ".py",
   "mimetype": "text/x-python",
   "name": "python",
   "nbconvert_exporter": "python",
   "pygments_lexer": "ipython3",
   "version": "3.11.3"
  }
 },
 "nbformat": 4,
 "nbformat_minor": 5
}
