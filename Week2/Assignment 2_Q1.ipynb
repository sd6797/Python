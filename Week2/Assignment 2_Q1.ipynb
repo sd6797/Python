{
 "cells": [
  {
   "cell_type": "code",
   "execution_count": 2,
   "id": "176801b4",
   "metadata": {},
   "outputs": [
    {
     "name": "stdout",
     "output_type": "stream",
     "text": [
      "2 1\n",
      "5 6\n",
      "7.00+7.00i\n",
      "-3.00-5.00i\n",
      "4.00+17.00i\n",
      "0.26-0.11i\n",
      "2.24+0.00i\n",
      "7.81+0.00i\n"
     ]
    }
   ],
   "source": [
    "import math\n",
    "\n",
    "class ComplexNumber:\n",
    "    def __init__(self, real, imag):\n",
    "        self.real = real\n",
    "        self.imag = imag\n",
    "\n",
    "    def __add__(self, other):\n",
    "        return ComplexNumber(self.real + other.real, self.imag + other.imag)\n",
    "\n",
    "    def __sub__(self, other):\n",
    "        return ComplexNumber(self.real - other.real, self.imag - other.imag)\n",
    "\n",
    "    def __mul__(self, other):\n",
    "        return ComplexNumber(self.real * other.real - self.imag * other.imag, self.real * other.imag + self.imag * other.real)\n",
    "\n",
    "    def __truediv__(self, other):\n",
    "        denominator = other.real ** 2 + other.imag ** 2\n",
    "        real = (self.real * other.real + self.imag * other.imag) / denominator\n",
    "        imag = (self.imag * other.real - self.real * other.imag) / denominator\n",
    "        return ComplexNumber(real, imag)\n",
    "\n",
    "    def modulus(self):\n",
    "        return math.sqrt(self.real ** 2 + self.imag ** 2)\n",
    "\n",
    "    def __str__(self):\n",
    "        if self.imag >= 0:\n",
    "            return f\"{self.real:.2f}+{self.imag:.2f}i\"\n",
    "        else:\n",
    "            return f\"{self.real:.2f}{self.imag:.2f}i\"\n",
    "\n",
    "def main():\n",
    "    # Input Format: Two complex numbers separated by a space\n",
    "    real1, imag1 = map(float, input().split())\n",
    "    real2, imag2 = map(float, input().split())\n",
    "\n",
    "    # Create two ComplexNumber objects\n",
    "    C = ComplexNumber(real1, imag1)\n",
    "    D = ComplexNumber(real2, imag2)\n",
    "\n",
    "    # Perform operations\n",
    "    addition = C + D\n",
    "    subtraction = C - D\n",
    "    multiplication = C * D\n",
    "    division = C / D\n",
    "    modulus_C = C.modulus()\n",
    "    modulus_D = D.modulus()\n",
    "\n",
    "    # Output Format\n",
    "    print(addition)\n",
    "    print(subtraction)\n",
    "    print(multiplication)\n",
    "    print(division)\n",
    "    print(f\"{modulus_C:.2f}+0.00i\")\n",
    "    print(f\"{modulus_D:.2f}+0.00i\")\n",
    "\n",
    "if __name__ == \"__main__\":\n",
    "    main()\n"
   ]
  },
  {
   "cell_type": "code",
   "execution_count": null,
   "id": "4524762a",
   "metadata": {},
   "outputs": [],
   "source": []
  }
 ],
 "metadata": {
  "kernelspec": {
   "display_name": "Python 3 (ipykernel)",
   "language": "python",
   "name": "python3"
  },
  "language_info": {
   "codemirror_mode": {
    "name": "ipython",
    "version": 3
   },
   "file_extension": ".py",
   "mimetype": "text/x-python",
   "name": "python",
   "nbconvert_exporter": "python",
   "pygments_lexer": "ipython3",
   "version": "3.11.3"
  }
 },
 "nbformat": 4,
 "nbformat_minor": 5
}
