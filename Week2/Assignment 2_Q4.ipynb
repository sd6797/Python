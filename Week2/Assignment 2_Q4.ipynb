{
 "cells": [
  {
   "cell_type": "code",
   "execution_count": 1,
   "id": "7a314209",
   "metadata": {},
   "outputs": [
    {
     "name": "stdout",
     "output_type": "stream",
     "text": [
      ">>> 1 + 1\n",
      "Result: 2.0\n",
      ">>> 3.2 - 1.5\n",
      "Result: 1.7000000000000002\n",
      ">>> 4 * 6\n",
      "Error: Invalid operator. Only '+' and '-' are allowed.\n",
      ">>> 9 / 3\n",
      "Error: Invalid operator. Only '+' and '-' are allowed.\n",
      ">>> quit\n"
     ]
    }
   ],
   "source": [
    "class FormulaError(Exception):\n",
    "    pass\n",
    "\n",
    "def parse_input(user_input):\n",
    "    elements = user_input.split()\n",
    "    if len(elements) != 3:\n",
    "        raise FormulaError(\"Invalid input. Please enter a formula with 3 elements (e.g., '1 + 1').\")\n",
    "    \n",
    "    n1_str, op, n2_str = elements\n",
    "    \n",
    "    try:\n",
    "        n1 = float(n1_str)\n",
    "        n2 = float(n2_str)\n",
    "    except ValueError:\n",
    "        raise FormulaError(\"Invalid input. The first and third elements should be numbers.\")\n",
    "    \n",
    "    if op not in ['+', '-']:\n",
    "        raise FormulaError(\"Invalid operator. Only '+' and '-' are allowed.\")\n",
    "    \n",
    "    return n1, op, n2\n",
    "\n",
    "def calculate(n1, op, n2):\n",
    "    if op == '+':\n",
    "        return n1 + n2\n",
    "    elif op == '-':\n",
    "        return n1 - n2\n",
    "\n",
    "if __name__ == \"__main__\":\n",
    "    while True:\n",
    "        user_input = input('>>> ')\n",
    "        if user_input.lower() == 'quit':\n",
    "            break\n",
    "        \n",
    "        try:\n",
    "            n1, op, n2 = parse_input(user_input)\n",
    "            result = calculate(n1, op, n2)\n",
    "            print(\"Result:\", result)\n",
    "        except FormulaError as e:\n",
    "            print(\"Error:\", e)\n"
   ]
  },
  {
   "cell_type": "code",
   "execution_count": null,
   "id": "acff4f7e",
   "metadata": {},
   "outputs": [],
   "source": []
  }
 ],
 "metadata": {
  "kernelspec": {
   "display_name": "Python 3 (ipykernel)",
   "language": "python",
   "name": "python3"
  },
  "language_info": {
   "codemirror_mode": {
    "name": "ipython",
    "version": 3
   },
   "file_extension": ".py",
   "mimetype": "text/x-python",
   "name": "python",
   "nbconvert_exporter": "python",
   "pygments_lexer": "ipython3",
   "version": "3.11.3"
  }
 },
 "nbformat": 4,
 "nbformat_minor": 5
}
