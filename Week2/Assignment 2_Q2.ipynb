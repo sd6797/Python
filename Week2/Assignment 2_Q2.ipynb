{
 "cells": [
  {
   "cell_type": "code",
   "execution_count": 18,
   "id": "cddfd060",
   "metadata": {},
   "outputs": [
    {
     "name": "stdout",
     "output_type": "stream",
     "text": [
      "M process\n"
     ]
    }
   ],
   "source": [
    "# 1st Structure:\n",
    "\n",
    "\n",
    "class X():\n",
    "    def process(self):\n",
    "        print(\"X process\")\n",
    "    pass\n",
    "\n",
    " \n",
    "\n",
    "class Y():\n",
    "    def process(self):\n",
    "        print(\"Y process\")\n",
    "    pass\n",
    "\n",
    " \n",
    "\n",
    "class Z():\n",
    "    def process(self):\n",
    "        print(\"Z process\")\n",
    "    pass\n",
    "\n",
    " \n",
    "\n",
    "class A(X,Y):\n",
    "    def process(self):\n",
    "        print (\"A process\")\n",
    "    pass    \n",
    "\n",
    " \n",
    "\n",
    " \n",
    "\n",
    "class B(Y,Z):\n",
    "    def process(self):\n",
    "        print (\"B process\")\n",
    "    pass\n",
    "\n",
    " \n",
    "\n",
    " \n",
    "\n",
    "class M(A,B):\n",
    "    def process(self):\n",
    "        print (\"M process\")\n",
    "    pass\n",
    "\n",
    " \n",
    "\n",
    " \n",
    "\n",
    "obj = M()\n",
    "obj.process()\n"
   ]
  },
  {
   "cell_type": "code",
   "execution_count": 17,
   "id": "52b57600",
   "metadata": {},
   "outputs": [
    {
     "data": {
      "text/plain": [
       "[__main__.C, __main__.B, __main__.A, object]"
      ]
     },
     "execution_count": 17,
     "metadata": {},
     "output_type": "execute_result"
    }
   ],
   "source": [
    "C.mro()"
   ]
  },
  {
   "cell_type": "code",
   "execution_count": 19,
   "id": "14cbf79e",
   "metadata": {},
   "outputs": [
    {
     "ename": "TypeError",
     "evalue": "Cannot create a consistent method resolution\norder (MRO) for bases A, B",
     "output_type": "error",
     "traceback": [
      "\u001b[1;31m---------------------------------------------------------------------------\u001b[0m",
      "\u001b[1;31mTypeError\u001b[0m                                 Traceback (most recent call last)",
      "Cell \u001b[1;32mIn[19], line 13\u001b[0m\n\u001b[0;32m     10\u001b[0m         \u001b[38;5;28mprint\u001b[39m(\u001b[38;5;124m'\u001b[39m\u001b[38;5;124mB process\u001b[39m\u001b[38;5;124m'\u001b[39m)\n\u001b[0;32m     11\u001b[0m     \u001b[38;5;28;01mpass\u001b[39;00m\n\u001b[1;32m---> 13\u001b[0m \u001b[38;5;28;01mclass\u001b[39;00m \u001b[38;5;21;01mC\u001b[39;00m(A,B):\n\u001b[0;32m     14\u001b[0m     \u001b[38;5;28;01mdef\u001b[39;00m \u001b[38;5;21mprocess\u001b[39m(\u001b[38;5;28mself\u001b[39m):\n\u001b[0;32m     15\u001b[0m         \u001b[38;5;28mprint\u001b[39m(\u001b[38;5;124m'\u001b[39m\u001b[38;5;124mC process\u001b[39m\u001b[38;5;124m'\u001b[39m)\n",
      "\u001b[1;31mTypeError\u001b[0m: Cannot create a consistent method resolution\norder (MRO) for bases A, B"
     ]
    }
   ],
   "source": [
    "# 2nd Structure:\n",
    "\n",
    "class A:\n",
    "    def process(self):\n",
    "        print('A process')\n",
    "    pass\n",
    "\n",
    "class B(A):\n",
    "    def process(self):\n",
    "        print('B process')\n",
    "    pass\n",
    "\n",
    "class C(A,B):\n",
    "    def process(self):\n",
    "        print('C process')\n",
    "    pass\n",
    "\n",
    "# It is giving a Type Error if its C(A,B): A should NOT be ahead of B as A is super class of B. So the MRO must be like this:\n",
    "#C -> B -> A. It can not create a consistent Method Resolution Order (MRO) for bases A,B. \n",
    "#Because it violets the property of inheritence if it goes to A and comes back to B. That is why there is a Type Error.\n",
    "\n",
    "objc = C()\n",
    "objc.process()"
   ]
  },
  {
   "cell_type": "code",
   "execution_count": 22,
   "id": "b135ee0a",
   "metadata": {},
   "outputs": [
    {
     "name": "stdout",
     "output_type": "stream",
     "text": [
      "C process\n"
     ]
    }
   ],
   "source": [
    "# 2nd Structure:\n",
    "\n",
    "class A:\n",
    "    def process(self):\n",
    "        print('A process')\n",
    "    pass\n",
    "\n",
    "class B(A):\n",
    "    def process(self):\n",
    "        print('B process')\n",
    "    pass\n",
    "\n",
    "class C(B,A):\n",
    "    def process(self):\n",
    "        print('C process')\n",
    "    pass\n",
    "\n",
    "\n",
    "objc = C()\n",
    "objc.process()"
   ]
  },
  {
   "cell_type": "code",
   "execution_count": 23,
   "id": "e806b61d",
   "metadata": {},
   "outputs": [
    {
     "data": {
      "text/plain": [
       "[__main__.C, __main__.B, __main__.A, object]"
      ]
     },
     "execution_count": 23,
     "metadata": {},
     "output_type": "execute_result"
    }
   ],
   "source": [
    "C.mro()"
   ]
  },
  {
   "cell_type": "code",
   "execution_count": null,
   "id": "8103a728",
   "metadata": {},
   "outputs": [],
   "source": []
  }
 ],
 "metadata": {
  "kernelspec": {
   "display_name": "Python 3 (ipykernel)",
   "language": "python",
   "name": "python3"
  },
  "language_info": {
   "codemirror_mode": {
    "name": "ipython",
    "version": 3
   },
   "file_extension": ".py",
   "mimetype": "text/x-python",
   "name": "python",
   "nbconvert_exporter": "python",
   "pygments_lexer": "ipython3",
   "version": "3.11.3"
  }
 },
 "nbformat": 4,
 "nbformat_minor": 5
}
