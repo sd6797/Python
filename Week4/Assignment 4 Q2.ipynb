{
 "cells": [
  {
   "cell_type": "code",
   "execution_count": 4,
   "id": "8d88a15f",
   "metadata": {},
   "outputs": [],
   "source": [
    "import yfinance as yf\n",
    "import pandas as pd\n",
    "import numpy as np\n"
   ]
  },
  {
   "cell_type": "code",
   "execution_count": 5,
   "id": "2632fa68",
   "metadata": {},
   "outputs": [
    {
     "name": "stdout",
     "output_type": "stream",
     "text": [
      "[*********************100%%**********************]  3 of 3 completed\n"
     ]
    }
   ],
   "source": [
    "# Step 1: Download close prices from Yahoo Finance\n",
    "start_date = \"2013-08-21\"\n",
    "end_date = \"2023-08-21\"\n",
    "tickers = [\"AAPL\", \"GOOGL\", \"META\"]\n",
    "\n",
    "data = yf.download(tickers, start=start_date, end=end_date)['Close']\n"
   ]
  },
  {
   "cell_type": "code",
   "execution_count": 6,
   "id": "ea33977e",
   "metadata": {},
   "outputs": [],
   "source": [
    "# Step 2: Merge dataframes on Date column\n",
    "merged_data = pd.concat([data[ticker] for ticker in tickers], axis=1)\n",
    "merged_data.columns = tickers"
   ]
  },
  {
   "cell_type": "code",
   "execution_count": 7,
   "id": "8f4b3057",
   "metadata": {},
   "outputs": [],
   "source": [
    "# Step 3: Calculate log returns of close price for each of the stock\n",
    "log_returns = np.log(merged_data / merged_data.shift(1))"
   ]
  },
  {
   "cell_type": "code",
   "execution_count": 8,
   "id": "3baf04c0",
   "metadata": {},
   "outputs": [],
   "source": [
    "# Step 4: Calculate VaR for different confidence levels\n",
    "confidence_levels = [0.99, 0.95, 0.9]\n",
    "var_results = {}\n",
    "\n",
    "for confidence in confidence_levels:\n",
    "    var_results[confidence] = log_returns.quantile(1 - confidence)"
   ]
  },
  {
   "cell_type": "code",
   "execution_count": 9,
   "id": "8f114e0a",
   "metadata": {},
   "outputs": [],
   "source": [
    "# Step 5: Repeat for different holding periods\n",
    "holding_periods = [1, 2, 5, 10]\n",
    "var_results_by_period = {}\n",
    "\n",
    "for period in holding_periods:\n",
    "    var_results_by_period[period] = {}\n",
    "    for confidence in confidence_levels:\n",
    "        var_results_by_period[period][confidence] = var_results[confidence] * np.sqrt(period)\n"
   ]
  },
  {
   "cell_type": "code",
   "execution_count": 10,
   "id": "95a64c63",
   "metadata": {},
   "outputs": [
    {
     "name": "stdout",
     "output_type": "stream",
     "text": [
      "   Confidence Level                                               0.99  \\\n",
      "1              1day  AAPL    -0.049210\n",
      "GOOGL   -0.048157\n",
      "META    -0...   \n",
      "2              2day  AAPL    -0.069593\n",
      "GOOGL   -0.068105\n",
      "META    -0...   \n",
      "5              5day  AAPL    -0.110037\n",
      "GOOGL   -0.107683\n",
      "META    -0...   \n",
      "10            10day  AAPL    -0.155615\n",
      "GOOGL   -0.152287\n",
      "META    -0...   \n",
      "\n",
      "                                                 0.95  \\\n",
      "1   AAPL    -0.027129\n",
      "GOOGL   -0.026460\n",
      "META    -0...   \n",
      "2   AAPL    -0.038366\n",
      "GOOGL   -0.037420\n",
      "META    -0...   \n",
      "5   AAPL    -0.060661\n",
      "GOOGL   -0.059167\n",
      "META    -0...   \n",
      "10  AAPL    -0.085788\n",
      "GOOGL   -0.083675\n",
      "META    -0...   \n",
      "\n",
      "                                                  0.9  \n",
      "1   AAPL    -0.019024\n",
      "GOOGL   -0.018838\n",
      "META    -0...  \n",
      "2   AAPL    -0.026905\n",
      "GOOGL   -0.026641\n",
      "META    -0...  \n",
      "5   AAPL    -0.042540\n",
      "GOOGL   -0.042123\n",
      "META    -0...  \n",
      "10  AAPL    -0.060160\n",
      "GOOGL   -0.059570\n",
      "META    -0...  \n"
     ]
    }
   ],
   "source": [
    "# Step 6: Create a summary dataframe\n",
    "summary_data = pd.DataFrame(index=holding_periods, columns=['Confidence Level'] + confidence_levels)\n",
    "\n",
    "for period, results in var_results_by_period.items():\n",
    "    summary_data.at[period, 'Confidence Level'] = f\"{period}day\"\n",
    "    for confidence, var_value in results.items():\n",
    "        summary_data.at[period, confidence] = var_value\n",
    "\n",
    "# Print the summary dataframe\n",
    "print(summary_data)\n"
   ]
  },
  {
   "cell_type": "code",
   "execution_count": null,
   "id": "aeea27ed",
   "metadata": {},
   "outputs": [],
   "source": []
  }
 ],
 "metadata": {
  "kernelspec": {
   "display_name": "Python 3 (ipykernel)",
   "language": "python",
   "name": "python3"
  },
  "language_info": {
   "codemirror_mode": {
    "name": "ipython",
    "version": 3
   },
   "file_extension": ".py",
   "mimetype": "text/x-python",
   "name": "python",
   "nbconvert_exporter": "python",
   "pygments_lexer": "ipython3",
   "version": "3.11.3"
  }
 },
 "nbformat": 4,
 "nbformat_minor": 5
}
